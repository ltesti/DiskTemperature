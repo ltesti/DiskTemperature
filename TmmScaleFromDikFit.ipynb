{
 "cells": [
  {
   "cell_type": "markdown",
   "metadata": {},
   "source": [
    "# Disks Temperature (T$_{mm}$) from resolved disks \n",
    "\n",
    "Leonardo Testi - Gothenburg 5 June 2016\n",
    "\n",
    "We use the fits made to the resolved Lupus disks (and the masses computed with the disk models) to attempt to derive an empirical relationship for T$_{mm}$ such that applying this T$_{mm}$ to unresolved disk photometry we derive an approximately correct value of the disk mass.\n"
   ]
  },
  {
   "cell_type": "code",
   "execution_count": null,
   "metadata": {
    "collapsed": true
   },
   "outputs": [],
   "source": [
    "import numpy as np\n",
    "import scipy.stats as ss\n",
    "import matplotlib\n",
    "import matplotlib.pyplot as plt\n",
    "import astropy.io.fits as aiof\n",
    "import astropy.io.ascii as aio\n",
    "from spectral_cube import SpectralCube\n",
    "import pyregion\n",
    "import astropy.units as u\n",
    "from astropy.coordinates import SkyCoord\n",
    "import aplpy\n",
    "import os\n",
    "\n",
    "%matplotlib inline \n",
    "matplotlib.rcParams['axes.linewidth'] = 2.5\n",
    "matplotlib.rcParams['text.usetex'] = True\n",
    "matplotlib.rcParams['font.size'] = 20\n",
    "\n"
   ]
  }
 ],
 "metadata": {
  "kernelspec": {
   "display_name": "Python 2",
   "language": "python",
   "name": "python2"
  },
  "language_info": {
   "codemirror_mode": {
    "name": "ipython",
    "version": 2
   },
   "file_extension": ".py",
   "mimetype": "text/x-python",
   "name": "python",
   "nbconvert_exporter": "python",
   "pygments_lexer": "ipython2",
   "version": "2.7.11"
  }
 },
 "nbformat": 4,
 "nbformat_minor": 0
}
